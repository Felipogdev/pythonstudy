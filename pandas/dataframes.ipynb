{
 "cells": [
  {
   "metadata": {
    "ExecuteTime": {
     "end_time": "2025-01-31T17:22:07.970641Z",
     "start_time": "2025-01-31T17:22:07.960719Z"
    }
   },
   "cell_type": "code",
   "source": [
    "import pandas as pd\n",
    "df = pd.DataFrame(\n",
    "    {\n",
    "        \"PassengerID\" : [0, 1, 2, 3, 4],\n",
    "        \"Survived\" : [0, 1, 1, 1, 0],\n",
    "        \"PClass\" : [3, 1, 3, 1, 3],\n",
    "        \"Fare\" : [7.2500, 71.2833, 7.9250, 53.1000, 80500],\n",
    "        \"Cabin\" : [None, 85, None, 123,None],\n",
    "        \"Embarked\" : [\"S\",\"C\",\"S\",\"S\",\"S\"],\n",
    "        \"Age\" : [5,3,10,20,40],\n",
    "        \"Name\" : [\"João\", \"Enzo\", \"Guilherme\", \"Augusto\", \"José\"]\n",
    "    })"
   ],
   "id": "23fd660b65689360",
   "outputs": [],
   "execution_count": 2
  },
  {
   "metadata": {
    "ExecuteTime": {
     "end_time": "2025-01-31T17:22:10.099200Z",
     "start_time": "2025-01-31T17:22:10.077953Z"
    }
   },
   "cell_type": "code",
   "source": "df.head()",
   "id": "6bfe20ffa0f16594",
   "outputs": [
    {
     "data": {
      "text/plain": [
       "   PassengerID  Survived  PClass        Fare  Cabin Embarked  Age       Name\n",
       "0            0         0       3      7.2500    NaN        S    5       João\n",
       "1            1         1       1     71.2833   85.0        C    3       Enzo\n",
       "2            2         1       3      7.9250    NaN        S   10  Guilherme\n",
       "3            3         1       1     53.1000  123.0        S   20    Augusto\n",
       "4            4         0       3  80500.0000    NaN        S   40       José"
      ],
      "text/html": [
       "<div>\n",
       "<style scoped>\n",
       "    .dataframe tbody tr th:only-of-type {\n",
       "        vertical-align: middle;\n",
       "    }\n",
       "\n",
       "    .dataframe tbody tr th {\n",
       "        vertical-align: top;\n",
       "    }\n",
       "\n",
       "    .dataframe thead th {\n",
       "        text-align: right;\n",
       "    }\n",
       "</style>\n",
       "<table border=\"1\" class=\"dataframe\">\n",
       "  <thead>\n",
       "    <tr style=\"text-align: right;\">\n",
       "      <th></th>\n",
       "      <th>PassengerID</th>\n",
       "      <th>Survived</th>\n",
       "      <th>PClass</th>\n",
       "      <th>Fare</th>\n",
       "      <th>Cabin</th>\n",
       "      <th>Embarked</th>\n",
       "      <th>Age</th>\n",
       "      <th>Name</th>\n",
       "    </tr>\n",
       "  </thead>\n",
       "  <tbody>\n",
       "    <tr>\n",
       "      <th>0</th>\n",
       "      <td>0</td>\n",
       "      <td>0</td>\n",
       "      <td>3</td>\n",
       "      <td>7.2500</td>\n",
       "      <td>NaN</td>\n",
       "      <td>S</td>\n",
       "      <td>5</td>\n",
       "      <td>João</td>\n",
       "    </tr>\n",
       "    <tr>\n",
       "      <th>1</th>\n",
       "      <td>1</td>\n",
       "      <td>1</td>\n",
       "      <td>1</td>\n",
       "      <td>71.2833</td>\n",
       "      <td>85.0</td>\n",
       "      <td>C</td>\n",
       "      <td>3</td>\n",
       "      <td>Enzo</td>\n",
       "    </tr>\n",
       "    <tr>\n",
       "      <th>2</th>\n",
       "      <td>2</td>\n",
       "      <td>1</td>\n",
       "      <td>3</td>\n",
       "      <td>7.9250</td>\n",
       "      <td>NaN</td>\n",
       "      <td>S</td>\n",
       "      <td>10</td>\n",
       "      <td>Guilherme</td>\n",
       "    </tr>\n",
       "    <tr>\n",
       "      <th>3</th>\n",
       "      <td>3</td>\n",
       "      <td>1</td>\n",
       "      <td>1</td>\n",
       "      <td>53.1000</td>\n",
       "      <td>123.0</td>\n",
       "      <td>S</td>\n",
       "      <td>20</td>\n",
       "      <td>Augusto</td>\n",
       "    </tr>\n",
       "    <tr>\n",
       "      <th>4</th>\n",
       "      <td>4</td>\n",
       "      <td>0</td>\n",
       "      <td>3</td>\n",
       "      <td>80500.0000</td>\n",
       "      <td>NaN</td>\n",
       "      <td>S</td>\n",
       "      <td>40</td>\n",
       "      <td>José</td>\n",
       "    </tr>\n",
       "  </tbody>\n",
       "</table>\n",
       "</div>"
      ]
     },
     "execution_count": 3,
     "metadata": {},
     "output_type": "execute_result"
    }
   ],
   "execution_count": 3
  },
  {
   "metadata": {
    "ExecuteTime": {
     "end_time": "2025-01-31T17:29:41.802609Z",
     "start_time": "2025-01-31T17:29:41.796295Z"
    }
   },
   "cell_type": "code",
   "source": "print(df.loc[0,\"Name\"])",
   "id": "98820f8b017b2ef0",
   "outputs": [
    {
     "name": "stdout",
     "output_type": "stream",
     "text": [
      "João\n"
     ]
    }
   ],
   "execution_count": 20
  },
  {
   "metadata": {},
   "cell_type": "code",
   "outputs": [],
   "execution_count": null,
   "source": "",
   "id": "fe05c867fdaa1c12"
  }
 ],
 "metadata": {
  "kernelspec": {
   "display_name": "Python 3",
   "language": "python",
   "name": "python3"
  },
  "language_info": {
   "codemirror_mode": {
    "name": "ipython",
    "version": 2
   },
   "file_extension": ".py",
   "mimetype": "text/x-python",
   "name": "python",
   "nbconvert_exporter": "python",
   "pygments_lexer": "ipython2",
   "version": "2.7.6"
  }
 },
 "nbformat": 4,
 "nbformat_minor": 5
}
