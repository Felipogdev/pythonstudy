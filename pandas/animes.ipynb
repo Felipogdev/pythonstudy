{
 "cells": [
  {
   "cell_type": "code",
   "execution_count": null,
   "id": "initial_id",
   "metadata": {
    "collapsed": true
   },
   "outputs": [],
   "source": [
    "import pandas as pd\n",
    "\n",
    "df = (\n",
    "    {\n",
    "    \"Nome\" : [\"One Piece\", \"Nichijou\", \"Bocchi the Rock\", \"Clannad\", \"Horimiya\", \"KonoSuba\", \"Kasuriya no Hitorigoto\", \"Madoka\", \"Makeine\", \"Mashle\", \"Mushoku Tensei\"],\n",
    "    \"Gênero\": [\"Shonen\", \"Comédia\", \"Musical\", \"Drama\", \"Romance\", \"Comédia\", \"Mistério\", \"Magic Girl\", \"Drama\", \"Ação\", \"Isekai\"],\n",
    "    \"Nota\" : [10, 10, 9, 10, 8, 8, 10, 8, 9, 9, 10]\n",
    "    }\n",
    ")\n",
    "    \n"
   ]
  }
 ],
 "metadata": {
  "kernelspec": {
   "display_name": "Python 3",
   "language": "python",
   "name": "python3"
  },
  "language_info": {
   "codemirror_mode": {
    "name": "ipython",
    "version": 2
   },
   "file_extension": ".py",
   "mimetype": "text/x-python",
   "name": "python",
   "nbconvert_exporter": "python",
   "pygments_lexer": "ipython2",
   "version": "2.7.6"
  }
 },
 "nbformat": 4,
 "nbformat_minor": 5
}
