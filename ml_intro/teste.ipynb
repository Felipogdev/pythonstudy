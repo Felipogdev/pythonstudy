{
 "cells": [
  {
   "metadata": {
    "ExecuteTime": {
     "end_time": "2025-02-01T20:00:58.068583Z",
     "start_time": "2025-02-01T20:00:55.823109Z"
    }
   },
   "cell_type": "code",
   "source": [
    "\n",
    "import pandas as pd\n",
    "import kagglehub\n",
    "from sklearn.tree import DecisionTreeRegressor\n",
    "   \n",
    "path = kagglehub.dataset_download(\"anthonypino/melbourne-housing-market\")  \n",
    "\n",
    "print(\"Path to dataset files:\", path)  \n",
    "melbourne_data = pd.read_csv(f\"{path}/Melbourne_housing_FULL.csv\")\n",
    "\n",
    "y = melbourne_data['Price'].fillna(melbourne_data['Price'].mean()) #Prediction Target\n",
    "\n",
    "melbourne_features = ['Rooms', 'Bathroom', 'Landsize', 'Lattitude', 'Longtitude']\n",
    "\n",
    "X = melbourne_data[melbourne_features] #Features\n",
    "\n",
    "melbourne_model = DecisionTreeRegressor(random_state=1) #random_state removes randomness of the model\n",
    "\n",
    "melbourne_model.fit(X,y) #Fit trains the model\n",
    "\n",
    "predictions = melbourne_model.predict(X)\n",
    "\n"
   ],
   "id": "6d5efc6782834702",
   "outputs": [
    {
     "name": "stderr",
     "output_type": "stream",
     "text": [
      "C:\\Users\\felip\\Desktop\\pystudy\\venv\\Lib\\site-packages\\tqdm\\auto.py:21: TqdmWarning: IProgress not found. Please update jupyter and ipywidgets. See https://ipywidgets.readthedocs.io/en/stable/user_install.html\n",
      "  from .autonotebook import tqdm as notebook_tqdm\n"
     ]
    },
    {
     "name": "stdout",
     "output_type": "stream",
     "text": [
      "Path to dataset files: C:\\Users\\felip\\.cache\\kagglehub\\datasets\\anthonypino\\melbourne-housing-market\\versions\\27\n"
     ]
    }
   ],
   "execution_count": 2
  },
  {
   "metadata": {
    "ExecuteTime": {
     "end_time": "2025-02-01T20:00:58.102199Z",
     "start_time": "2025-02-01T20:00:58.096145Z"
    }
   },
   "cell_type": "code",
   "source": "print(predictions)",
   "id": "28480cacaef9065e",
   "outputs": [
    {
     "name": "stdout",
     "output_type": "stream",
     "text": [
      "[1050173.34495541 1480000.         1035000.         ...  705000.\n",
      "  973067.73786574 1020000.        ]\n"
     ]
    }
   ],
   "execution_count": 3
  },
  {
   "metadata": {
    "ExecuteTime": {
     "end_time": "2025-02-01T20:00:59.797222Z",
     "start_time": "2025-02-01T20:00:59.775668Z"
    }
   },
   "cell_type": "code",
   "source": [
    "from sklearn.metrics import mean_absolute_error\n",
    "\n",
    "predicted_home_prices = melbourne_model.predict(X)\n",
    "mean_absolute_error(y, predicted_home_prices)"
   ],
   "id": "578d38723b038a76",
   "outputs": [
    {
     "data": {
      "text/plain": [
       "72076.20413241912"
      ]
     },
     "execution_count": 4,
     "metadata": {},
     "output_type": "execute_result"
    }
   ],
   "execution_count": 4
  },
  {
   "metadata": {},
   "cell_type": "code",
   "outputs": [],
   "execution_count": null,
   "source": "",
   "id": "346aa2910edc5abd"
  }
 ],
 "metadata": {
  "kernelspec": {
   "display_name": "Python 3",
   "language": "python",
   "name": "python3"
  },
  "language_info": {
   "codemirror_mode": {
    "name": "ipython",
    "version": 2
   },
   "file_extension": ".py",
   "mimetype": "text/x-python",
   "name": "python",
   "nbconvert_exporter": "python",
   "pygments_lexer": "ipython2",
   "version": "2.7.6"
  }
 },
 "nbformat": 4,
 "nbformat_minor": 5
}
